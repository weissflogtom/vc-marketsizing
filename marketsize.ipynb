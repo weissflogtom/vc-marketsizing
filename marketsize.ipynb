{
 "cells": [
  {
   "cell_type": "markdown",
   "id": "cae4cd24",
   "metadata": {},
   "source": [
    "# Market Size  \n",
    "\n",
    "***Bottom Up***\n",
    "\n",
    "---\n"
   ]
  },
  {
   "cell_type": "markdown",
   "id": "7d3f7236",
   "metadata": {},
   "source": [
    "## Market Sizing Approach\n",
    "\n",
    "To estimate the potential market size, we use a bottom-up approach based on the number of **electoral districts** (*Wahlbezirke*) involved in an election.\n",
    "\n",
    "A electoral district is an administrative unit used to organize the voting process. There are two types of electoral district in Germany:\n",
    "\n",
    "- **Polling station districts** (*Urnenwahlbezirke*), where voters cast their ballots in person at an assigned polling station.\n",
    "- **Postal voting districts** (*Briefwahlbezirke*), where postal votes are collected and counted.\n",
    "\n",
    "Each eligible voter is assigned to both a polling station district and a postal voting district.\n",
    "\n",
    "For our calculation, we assume a service fee of **€50 per electoral district**. By multiplying the total number of districts by this fee, we can derive a realistic estimate of the addressable market per election.\n"
   ]
  },
  {
   "cell_type": "markdown",
   "id": "9dc615cb",
   "metadata": {},
   "source": [
    "### Data Basis and Analysis Scope\n",
    "\n",
    "We begin by analyzing publicly available election results from the states of **Berlin** ([wahlen-berlin.de](https://www.wahlen-berlin.de/)) and **Brandenburg** ([wahlergebnisse.brandenburg.de](https://wahlergebnisse.brandenburg.de/)).\n",
    "\n",
    "For each dataset, we examine the following attributes:\n",
    "- **Type of electoral district**: differentiating between *postal voting districts* (Briefwahlbezirke) and *polling station districts* (Urnenwahlbezirke),\n",
    "- **Size of the district**: i.e., the number of eligible voters or ballots cast,\n",
    "- **Type of election**: such as European Parliament elections, federal (Bundestag) elections, and others.\n",
    "- **State**: either Berlin or Brandenburg.\n",
    "\n",
    "This analysis forms the basis for estimating the number of electoral districts across different election types.\n"
   ]
  },
  {
   "cell_type": "code",
   "execution_count": 39,
   "id": "2344914f",
   "metadata": {},
   "outputs": [
    {
     "data": {
      "text/html": [
       "<div>\n",
       "<style scoped>\n",
       "    .dataframe tbody tr th:only-of-type {\n",
       "        vertical-align: middle;\n",
       "    }\n",
       "\n",
       "    .dataframe tbody tr th {\n",
       "        vertical-align: top;\n",
       "    }\n",
       "\n",
       "    .dataframe thead th {\n",
       "        text-align: right;\n",
       "    }\n",
       "</style>\n",
       "<table border=\"1\" class=\"dataframe\">\n",
       "  <thead>\n",
       "    <tr style=\"text-align: right;\">\n",
       "      <th></th>\n",
       "      <th>typ</th>\n",
       "      <th>size</th>\n",
       "      <th>election</th>\n",
       "      <th>state</th>\n",
       "    </tr>\n",
       "  </thead>\n",
       "  <tbody>\n",
       "    <tr>\n",
       "      <th>0</th>\n",
       "      <td>Urnenwahlbezirk</td>\n",
       "      <td>864</td>\n",
       "      <td>BU - BB</td>\n",
       "      <td>Brandenburg</td>\n",
       "    </tr>\n",
       "    <tr>\n",
       "      <th>1</th>\n",
       "      <td>Urnenwahlbezirk</td>\n",
       "      <td>924</td>\n",
       "      <td>BU - BB</td>\n",
       "      <td>Brandenburg</td>\n",
       "    </tr>\n",
       "    <tr>\n",
       "      <th>2</th>\n",
       "      <td>Urnenwahlbezirk</td>\n",
       "      <td>703</td>\n",
       "      <td>BU - BB</td>\n",
       "      <td>Brandenburg</td>\n",
       "    </tr>\n",
       "    <tr>\n",
       "      <th>3</th>\n",
       "      <td>Urnenwahlbezirk</td>\n",
       "      <td>412</td>\n",
       "      <td>BU - BB</td>\n",
       "      <td>Brandenburg</td>\n",
       "    </tr>\n",
       "    <tr>\n",
       "      <th>4</th>\n",
       "      <td>Urnenwahlbezirk</td>\n",
       "      <td>307</td>\n",
       "      <td>BU - BB</td>\n",
       "      <td>Brandenburg</td>\n",
       "    </tr>\n",
       "  </tbody>\n",
       "</table>\n",
       "</div>"
      ],
      "text/plain": [
       "               typ size election        state\n",
       "0  Urnenwahlbezirk  864  BU - BB  Brandenburg\n",
       "1  Urnenwahlbezirk  924  BU - BB  Brandenburg\n",
       "2  Urnenwahlbezirk  703  BU - BB  Brandenburg\n",
       "3  Urnenwahlbezirk  412  BU - BB  Brandenburg\n",
       "4  Urnenwahlbezirk  307  BU - BB  Brandenburg"
      ]
     },
     "execution_count": 39,
     "metadata": {},
     "output_type": "execute_result"
    }
   ],
   "source": [
    "import json\n",
    "import pandas as pd\n",
    "\n",
    "\n",
    "with open('source.json') as file:\n",
    "    source = json.load(file)\n",
    "\n",
    "electoral_district = pd.DataFrame(columns=['typ', 'size', 'election', 'state'])\n",
    "for entry in source:\n",
    "    temp = pd.read_excel(entry['filename'], sheet_name=entry['sheetname'])\n",
    "    temp = temp[entry['columns']]\n",
    "    temp['election'] = entry['election']\n",
    "    temp['state'] = entry['state']\n",
    "\n",
    "    columns = {source_column_name: target_column_name for source_column_name, target_column_name in zip(temp.columns, electoral_district.columns)}\n",
    "    temp = temp.rename(columns=columns)\n",
    "\n",
    "    electoral_district = pd.concat([electoral_district, temp])\n",
    "\n",
    "\n",
    "electoral_district = electoral_district.replace({'typ': {'W': 'Urnenwahlbezirk', 'B': 'Briefwahlbezirk'}})\n",
    "electoral_district = electoral_district.loc[electoral_district['typ'] == 'Urnenwahlbezirk']\n",
    "\n",
    "electoral_district.head()"
   ]
  },
  {
   "cell_type": "code",
   "execution_count": null,
   "id": "11a346d9",
   "metadata": {},
   "outputs": [
    {
     "data": {
      "text/plain": [
       "np.float64(826.4348352930616)"
      ]
     },
     "execution_count": 75,
     "metadata": {},
     "output_type": "execute_result"
    }
   ],
   "source": []
  },
  {
   "cell_type": "markdown",
   "id": "502d860d",
   "metadata": {},
   "source": [
    "### Visualizing District Size Distribution\n",
    "\n",
    "Next, we plot the data to visualize the distribution of electoral district sizes. This helps us understand how district sizes vary by:\n",
    "\n",
    "- **Type of election** (e.g., European, federal),\n",
    "- **State** (Berlin or Brandenburg).\n",
    "\n",
    "These visualizations provide insights into typical district sizes and outliers, which are relevant for estimating workload, resource needs, and service pricing.\n"
   ]
  },
  {
   "cell_type": "code",
   "execution_count": 89,
   "id": "193f3c59",
   "metadata": {},
   "outputs": [
    {
     "data": {
      "text/plain": [
       "<matplotlib.lines.Line2D at 0x2247cc55c50>"
      ]
     },
     "execution_count": 89,
     "metadata": {},
     "output_type": "execute_result"
    },
    {
     "data": {
      "image/png": "[encoded data removed]",
      "text/plain": [
       "<Figure size 640x480 with 1 Axes>"
      ]
     },
     "metadata": {},
     "output_type": "display_data"
    }
   ],
   "source": [
    "import seaborn as sns\n",
    "import matplotlib.pyplot as plt \n",
    "\n",
    "sns.set_theme(style=\"ticks\", palette=\"pastel\")\n",
    "\n",
    "\n",
    "graph = sns.boxplot(\n",
    "    x='election',\n",
    "    y='size',\n",
    "    hue='state',\n",
    "    data=electoral_district,\n",
    "    fliersize=2\n",
    ")\n",
    "\n",
    "sns.despine(offset=10, trim=True)\n",
    "\n",
    "graph.set_xticklabels(graph.get_xticklabels(), rotation=30)\n",
    "graph.axhline(\n",
    "    y=electoral_district.loc[:, 'size'].mean(), \n",
    "    label='mean',\n",
    "    color='red'\n",
    "    )"
   ]
  },
  {
   "cell_type": "markdown",
   "id": "5a760546",
   "metadata": {},
   "source": [
    "### Estimating Electoral Districts Based on Population\n",
    "\n",
    "The visualizations reveal a clear difference in electoral district size between urban areas (e.g., Berlin) and rural regions (e.g., Brandenburg). While the **type of region** significantly influences district size, the **type of election** (e.g., federal, European) has only a minor effect and can be considered negligible for this purpose.\n",
    "\n",
    "To estimate the number of electoral districts based on population, we use the **average number of eligible voters per district** as a conversion factor. Our analysis shows that, on average, one electoral district corresponds to approximately **800 eligible voters**.\n",
    "\n",
    "For the number of eligible voters, we refer to the official figures from the **2025 federal election (Bundestagswahl)**, which represent the most up-to-date nationwide data. According to the Federal Election Officer, **60,510,631** people were eligible to vote in that election ([source](https://www.bundeswahlleiterin.de/bundestagswahlen/2025/ergebnisse/bund-99.html#stimmentabelle14)).\n",
    "\n",
    "We note that this figure excludes some younger voters who are eligible in certain elections (e.g., from age 16 in European or local elections). However, we consider this deviation negligible for the purpose of high-level market estimation.\n",
    "\n",
    "Using this approach, the total number of electoral districts in Germany can be approximated by dividing the number of eligible voters by mean size of electorial districts.\n"
   ]
  },
  {
   "cell_type": "code",
   "execution_count": 103,
   "id": "6a919047",
   "metadata": {},
   "outputs": [
    {
     "name": "stdout",
     "output_type": "stream",
     "text": [
      "Service fee ~ €3.7M\n"
     ]
    }
   ],
   "source": [
    "number_of_eligible_voters = 60_510_631\n",
    "mean_electoral_district_size = electoral_district.loc[:, 'size'].mean()\n",
    "price_per_electoral_district = 50\n",
    "service_fee = round(number_of_eligible_voters / mean_electoral_district_size * price_per_electoral_district / 1_000_000, 1)\n",
    "\n",
    "print(f'Service fee ~ €{service_fee}M')"
   ]
  }
 ],
 "metadata": {
  "kernelspec": {
   "display_name": "venv",
   "language": "python",
   "name": "python3"
  },
  "language_info": {
   "codemirror_mode": {
    "name": "ipython",
    "version": 3
   },
   "file_extension": ".py",
   "mimetype": "text/x-python",
   "name": "python",
   "nbconvert_exporter": "python",
   "pygments_lexer": "ipython3",
   "version": "3.11.9"
  }
 },
 "nbformat": 4,
 "nbformat_minor": 5
}
