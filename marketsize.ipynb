{
 "cells": [
  {
   "cell_type": "markdown",
   "id": "7d3f7236",
   "metadata": {},
   "source": [
    "## Market Sizing Approach\n",
    "\n",
    "To estimate the potential market size, we use a bottom-up approach based on the number of **electoral districts** (*Wahlbezirke*) involved in an election.\n",
    "\n",
    "A electoral district is an administrative unit used to organize the voting process. There are two types of electoral district in Germany:\n",
    "\n",
    "- **Polling station districts** (*Urnenwahlbezirke*), where voters cast their ballots in person at an assigned polling station.\n",
    "- **Postal voting districts** (*Briefwahlbezirke*), where postal votes are collected and counted.\n",
    "\n",
    "Each eligible voter is assigned to both a polling station district and a postal voting district.\n",
    "\n",
    "For our calculation, we assume a service fee of **€50 per electoral district**. By multiplying the total number of districts by this fee, we can derive a realistic estimate of the addressable market per election.\n"
   ]
  },
  {
   "cell_type": "markdown",
   "id": "9dc615cb",
   "metadata": {},
   "source": [
    "### Data Basis and Analysis Scope\n",
    "\n",
    "We begin by analyzing publicly available election results from the states of **Berlin** ([wahlen-berlin.de](https://www.wahlen-berlin.de/)) and **Brandenburg** ([wahlergebnisse.brandenburg.de](https://wahlergebnisse.brandenburg.de/)).\n",
    "\n",
    "For each dataset, we examine the following attributes:\n",
    "- **Type of electoral district**: differentiating between *postal voting districts* (Briefwahlbezirke) and *polling station districts* (Urnenwahlbezirke),\n",
    "- **Size of the district**: i.e., the number of eligible voters or ballots cast,\n",
    "- **Type of election**: such as European Parliament elections, federal (Bundestag) elections, and others.\n",
    "- **State**: either Berlin or Brandenburg.\n",
    "\n",
    "This analysis forms the basis for estimating the number of electoral districts across different election types.\n"
   ]
  },
  {
   "cell_type": "code",
   "execution_count": 79,
   "id": "604ea648",
   "metadata": {},
   "outputs": [],
   "source": [
    "import json\n",
    "import pandas as pd\n",
    "import seaborn as sns\n",
    "import matplotlib.pyplot as plt\n"
   ]
  },
  {
   "cell_type": "code",
   "execution_count": 80,
   "id": "2344914f",
   "metadata": {},
   "outputs": [
    {
     "data": {
      "text/html": [
       "<div>\n",
       "<style scoped>\n",
       "    .dataframe tbody tr th:only-of-type {\n",
       "        vertical-align: middle;\n",
       "    }\n",
       "\n",
       "    .dataframe tbody tr th {\n",
       "        vertical-align: top;\n",
       "    }\n",
       "\n",
       "    .dataframe thead th {\n",
       "        text-align: right;\n",
       "    }\n",
       "</style>\n",
       "<table border=\"1\" class=\"dataframe\">\n",
       "  <thead>\n",
       "    <tr style=\"text-align: right;\">\n",
       "      <th></th>\n",
       "      <th>typ</th>\n",
       "      <th>size</th>\n",
       "      <th>election</th>\n",
       "      <th>state</th>\n",
       "    </tr>\n",
       "  </thead>\n",
       "  <tbody>\n",
       "    <tr>\n",
       "      <th>0</th>\n",
       "      <td>Urnenwahlbezirk</td>\n",
       "      <td>864</td>\n",
       "      <td>BU - BB</td>\n",
       "      <td>Brandenburg</td>\n",
       "    </tr>\n",
       "    <tr>\n",
       "      <th>1</th>\n",
       "      <td>Urnenwahlbezirk</td>\n",
       "      <td>924</td>\n",
       "      <td>BU - BB</td>\n",
       "      <td>Brandenburg</td>\n",
       "    </tr>\n",
       "    <tr>\n",
       "      <th>2</th>\n",
       "      <td>Urnenwahlbezirk</td>\n",
       "      <td>703</td>\n",
       "      <td>BU - BB</td>\n",
       "      <td>Brandenburg</td>\n",
       "    </tr>\n",
       "    <tr>\n",
       "      <th>3</th>\n",
       "      <td>Urnenwahlbezirk</td>\n",
       "      <td>412</td>\n",
       "      <td>BU - BB</td>\n",
       "      <td>Brandenburg</td>\n",
       "    </tr>\n",
       "    <tr>\n",
       "      <th>4</th>\n",
       "      <td>Urnenwahlbezirk</td>\n",
       "      <td>307</td>\n",
       "      <td>BU - BB</td>\n",
       "      <td>Brandenburg</td>\n",
       "    </tr>\n",
       "  </tbody>\n",
       "</table>\n",
       "</div>"
      ],
      "text/plain": [
       "               typ size election        state\n",
       "0  Urnenwahlbezirk  864  BU - BB  Brandenburg\n",
       "1  Urnenwahlbezirk  924  BU - BB  Brandenburg\n",
       "2  Urnenwahlbezirk  703  BU - BB  Brandenburg\n",
       "3  Urnenwahlbezirk  412  BU - BB  Brandenburg\n",
       "4  Urnenwahlbezirk  307  BU - BB  Brandenburg"
      ]
     },
     "execution_count": 80,
     "metadata": {},
     "output_type": "execute_result"
    }
   ],
   "source": [
    "with open('source.json') as file:\n",
    "    source = json.load(file)\n",
    "\n",
    "electoral_district = pd.DataFrame(columns=['typ', 'size', 'election', 'state'])\n",
    "for entry in source:\n",
    "    temp = pd.read_excel(entry['filename'], sheet_name=entry['sheetname'])\n",
    "    temp = temp[entry['columns']]\n",
    "    temp['election'] = entry['election']\n",
    "    temp['state'] = entry['state']\n",
    "\n",
    "    columns = {source_column_name: target_column_name for source_column_name, target_column_name in zip(temp.columns, electoral_district.columns)}\n",
    "    temp = temp.rename(columns=columns)\n",
    "\n",
    "    electoral_district = pd.concat([electoral_district, temp])\n",
    "\n",
    "\n",
    "electoral_district = electoral_district.replace({'typ': {'W': 'Urnenwahlbezirk', 'B': 'Briefwahlbezirk'}})\n",
    "electoral_district = electoral_district.loc[electoral_district['typ'] == 'Urnenwahlbezirk']\n",
    "\n",
    "electoral_district.head()\n"
   ]
  },
  {
   "cell_type": "code",
   "execution_count": 81,
   "id": "11a346d9",
   "metadata": {},
   "outputs": [
    {
     "data": {
      "text/plain": [
       "np.float64(826.4348352930616)"
      ]
     },
     "execution_count": 81,
     "metadata": {},
     "output_type": "execute_result"
    }
   ],
   "source": [
    "electoral_district.loc[:, 'size'].mean()\n"
   ]
  },
  {
   "cell_type": "markdown",
   "id": "502d860d",
   "metadata": {},
   "source": [
    "### Visualizing District Size Distribution\n",
    "\n",
    "Next, we plot the data to visualize the distribution of electoral district sizes. This helps us understand how district sizes vary by:\n",
    "\n",
    "- **Type of election** (e.g., European, federal),\n",
    "- **State** (Berlin or Brandenburg).\n",
    "\n",
    "These visualizations provide insights into typical district sizes and outliers, which are relevant for estimating workload, resource needs, and service pricing.\n"
   ]
  },
  {
   "cell_type": "code",
   "execution_count": 82,
   "id": "193f3c59",
   "metadata": {},
   "outputs": [
    {
     "data": {
      "text/plain": [
       "<matplotlib.lines.Line2D at 0x27dc83ead10>"
      ]
     },
     "execution_count": 82,
     "metadata": {},
     "output_type": "execute_result"
    },
    {
     "data": {
      "image/png": "[encoded data removed]",
      "text/plain": [
       "<Figure size 640x480 with 1 Axes>"
      ]
     },
     "metadata": {},
     "output_type": "display_data"
    }
   ],
   "source": [
    "\n",
    "sns.set_theme(style=\"ticks\", palette=\"pastel\")\n",
    "\n",
    "graph = sns.boxplot(\n",
    "    x='election',\n",
    "    y='size',\n",
    "    hue='state',\n",
    "    data=electoral_district,\n",
    "    fliersize=2\n",
    ")\n",
    "\n",
    "sns.despine(offset=10, trim=True)\n",
    "\n",
    "graph.set_xticklabels(graph.get_xticklabels(), rotation=30)\n",
    "graph.axhline(\n",
    "    y=electoral_district.loc[:, 'size'].mean(), \n",
    "    label='mean',\n",
    "    color='red'\n",
    "    )\n"
   ]
  },
  {
   "cell_type": "markdown",
   "id": "5a760546",
   "metadata": {},
   "source": [
    "### Estimating Electoral Districts Based on Population\n",
    "\n",
    "The visualizations reveal a clear difference in electoral district size between urban areas (e.g., Berlin) and rural regions (e.g., Brandenburg). While the **type of region** significantly influences district size, the **type of election** (e.g., federal, European) has only a minor effect and can be considered negligible for this purpose.\n",
    "\n",
    "To estimate the number of electoral districts based on population, we use the **average number of eligible voters per district** as a conversion factor. Our analysis shows that, on average, one electoral district corresponds to approximately **800 eligible voters**.\n",
    "\n",
    "For the number of eligible voters, we refer to the official figures from the **2025 federal election (Bundestagswahl)**, which represent the most up-to-date nationwide data. According to the Federal Election Officer, **60,510,631** people were eligible to vote in that election ([source](https://www.bundeswahlleiterin.de/bundestagswahlen/2025/ergebnisse/bund-99.html#stimmentabelle14)).\n",
    "\n",
    "We note that this figure excludes some younger voters who are eligible in certain elections (e.g., from age 16 in European or local elections). However, we consider this deviation negligible for the purpose of high-level market estimation.\n",
    "\n",
    "Using this approach, the total number of electoral districts in Germany can be approximated by dividing the number of eligible voters by mean size of electorial districts.\n"
   ]
  },
  {
   "cell_type": "code",
   "execution_count": 83,
   "id": "6a919047",
   "metadata": {},
   "outputs": [
    {
     "name": "stdout",
     "output_type": "stream",
     "text": [
      "Service fee per election ~ €3.7M\n"
     ]
    }
   ],
   "source": [
    "number_of_eligible_voters = 60_510_631\n",
    "mean_electoral_district_size = electoral_district.loc[:, 'size'].mean()\n",
    "price_per_electoral_district = 50\n",
    "service_fee = round(number_of_eligible_voters / mean_electoral_district_size * price_per_electoral_district / 1_000_000, 1)\n",
    "\n",
    "print(f'Service fee per election ~ €{service_fee}M')\n"
   ]
  },
  {
   "cell_type": "markdown",
   "id": "9385bb12",
   "metadata": {},
   "source": [
    "### Identifying Potential Customers: Municipalities\n",
    "\n",
    "As a next step, we aim to estimate the number of potential customers by identifying all municipalities (*Gemeinden*) in Germany. Each municipality typically operates one or more electoral districts and would represent a unit of demand for our product.\n",
    "\n",
    "To do this, we rely on data from the **Official Municipality Directory (GV-ISys)**, maintained by the Federal Statistical Office ([Destatis – Gemeindeverzeichnis](https://www.destatis.de/DE/Themen/Laender-Regionen/Regionales/Gemeindeverzeichnis/_inhalt.html)). This dataset provides detailed information on:\n",
    "\n",
    "- The total number of municipalities in Germany,\n",
    "- Their population sizes,\n",
    "- Administrative structures ([RS](https://www.destatis.de/DE/Themen/Laender-Regionen/Regionales/Gemeindeverzeichnis/Glossar/regionalschluessel.html)).\n",
    "\n",
    "This data allows us to classify municipalities by size and estimate demand tiers. In a subsequent step, we will multiply the number of municipalities by a fixed fee per customer to estimate the market potential for our base product offering.\n"
   ]
  },
  {
   "cell_type": "code",
   "execution_count": 84,
   "id": "d1288a0b",
   "metadata": {},
   "outputs": [
    {
     "data": {
      "text/html": [
       "<div>\n",
       "<style scoped>\n",
       "    .dataframe tbody tr th:only-of-type {\n",
       "        vertical-align: middle;\n",
       "    }\n",
       "\n",
       "    .dataframe tbody tr th {\n",
       "        vertical-align: top;\n",
       "    }\n",
       "\n",
       "    .dataframe thead th {\n",
       "        text-align: right;\n",
       "    }\n",
       "</style>\n",
       "<table border=\"1\" class=\"dataframe\">\n",
       "  <thead>\n",
       "    <tr style=\"text-align: right;\">\n",
       "      <th></th>\n",
       "      <th>Land</th>\n",
       "      <th>RB</th>\n",
       "      <th>Kreis</th>\n",
       "      <th>VB</th>\n",
       "      <th>Gem</th>\n",
       "      <th>Name</th>\n",
       "      <th>Size</th>\n",
       "      <th>Population</th>\n",
       "      <th>Size category</th>\n",
       "    </tr>\n",
       "  </thead>\n",
       "  <tbody>\n",
       "    <tr>\n",
       "      <th>2</th>\n",
       "      <td>01</td>\n",
       "      <td>0</td>\n",
       "      <td>01</td>\n",
       "      <td>0000</td>\n",
       "      <td>000</td>\n",
       "      <td>Flensburg, Stadt</td>\n",
       "      <td>56.73</td>\n",
       "      <td>96431</td>\n",
       "      <td>&gt; 50.000</td>\n",
       "    </tr>\n",
       "    <tr>\n",
       "      <th>5</th>\n",
       "      <td>01</td>\n",
       "      <td>0</td>\n",
       "      <td>02</td>\n",
       "      <td>0000</td>\n",
       "      <td>000</td>\n",
       "      <td>Kiel, Landeshauptstadt</td>\n",
       "      <td>118.65</td>\n",
       "      <td>251751</td>\n",
       "      <td>&gt; 50.000</td>\n",
       "    </tr>\n",
       "    <tr>\n",
       "      <th>8</th>\n",
       "      <td>01</td>\n",
       "      <td>0</td>\n",
       "      <td>03</td>\n",
       "      <td>0000</td>\n",
       "      <td>000</td>\n",
       "      <td>Lübeck, Hansestadt</td>\n",
       "      <td>214.19</td>\n",
       "      <td>217061</td>\n",
       "      <td>&gt; 50.000</td>\n",
       "    </tr>\n",
       "    <tr>\n",
       "      <th>11</th>\n",
       "      <td>01</td>\n",
       "      <td>0</td>\n",
       "      <td>04</td>\n",
       "      <td>0000</td>\n",
       "      <td>000</td>\n",
       "      <td>Neumünster, Stadt</td>\n",
       "      <td>71.66</td>\n",
       "      <td>79461</td>\n",
       "      <td>&gt; 50.000</td>\n",
       "    </tr>\n",
       "    <tr>\n",
       "      <th>14</th>\n",
       "      <td>01</td>\n",
       "      <td>0</td>\n",
       "      <td>51</td>\n",
       "      <td>0011</td>\n",
       "      <td>011</td>\n",
       "      <td>Brunsbüttel, Stadt</td>\n",
       "      <td>65.21</td>\n",
       "      <td>12736</td>\n",
       "      <td>5.000 - 50.000</td>\n",
       "    </tr>\n",
       "  </tbody>\n",
       "</table>\n",
       "</div>"
      ],
      "text/plain": [
       "   Land RB Kreis    VB  Gem                    Name    Size  Population  \\\n",
       "2    01  0    01  0000  000        Flensburg, Stadt   56.73       96431   \n",
       "5    01  0    02  0000  000  Kiel, Landeshauptstadt  118.65      251751   \n",
       "8    01  0    03  0000  000      Lübeck, Hansestadt  214.19      217061   \n",
       "11   01  0    04  0000  000       Neumünster, Stadt   71.66       79461   \n",
       "14   01  0    51  0011  011      Brunsbüttel, Stadt   65.21       12736   \n",
       "\n",
       "     Size category  \n",
       "2         > 50.000  \n",
       "5         > 50.000  \n",
       "8         > 50.000  \n",
       "11        > 50.000  \n",
       "14  5.000 - 50.000  "
      ]
     },
     "execution_count": 84,
     "metadata": {},
     "output_type": "execute_result"
    }
   ],
   "source": [
    "def size_category(row):\n",
    "    if row['Population'] < 10_000:\n",
    "        return '< 10.000'\n",
    "    if row['Population'] > 50_000:\n",
    "        return '> 50.000'\n",
    "    return '5.000 - 50.000'\n",
    "\n",
    "\n",
    "municipalities = pd.read_excel('AuszugGV2QAktuell.xlsx', sheet_name='Onlineprodukt_Gemeinden30062025', usecols='C:J', skiprows=6, names=['Land', 'RB', 'Kreis', 'VB', 'Gem', 'Name', 'Size', 'Population'], dtype=str)\n",
    "municipalities = municipalities.loc[municipalities['Size'].notna() & municipalities['Population'].notna()]\n",
    "municipalities['Population'] = municipalities['Population'].astype(int)\n",
    "municipalities['Size category'] = municipalities.apply(size_category, axis=1)\n",
    "municipalities.head()\n"
   ]
  },
  {
   "cell_type": "code",
   "execution_count": 85,
   "id": "2f45e2e7",
   "metadata": {},
   "outputs": [
    {
     "data": {
      "image/png": "[encoded data removed]",
      "text/plain": [
       "<Figure size 1000x600 with 2 Axes>"
      ]
     },
     "metadata": {},
     "output_type": "display_data"
    }
   ],
   "source": [
    "counts = municipalities[\"Size category\"].value_counts().sort_values(ascending=False)\n",
    "municipalities_pareto = counts.reset_index()\n",
    "municipalities_pareto.columns = [\"Size category\", \"count\"]\n",
    "\n",
    "municipalities_pareto[\"cumulative\"] = municipalities_pareto[\"count\"].cumsum()\n",
    "municipalities_pareto[\"cumulative_pct\"] = municipalities_pareto[\"cumulative\"] / municipalities_pareto[\"count\"].sum() * 100\n",
    "\n",
    "fig, ax1 = plt.subplots(figsize=(10, 6))\n",
    "\n",
    "sns.barplot(x=\"Size category\", y=\"count\", data=municipalities_pareto, ax=ax1, color=\"skyblue\")\n",
    "ax1.set_ylabel(\"Number of Municipalities\")\n",
    "ax1.set_xlabel(\"Population Class\")\n",
    "\n",
    "ax2 = ax1.twinx()\n",
    "sns.lineplot(x=\"Size category\", y=\"cumulative_pct\", data=municipalities_pareto, ax=ax2, color=\"orange\", marker=\"o\")\n",
    "ax2.set_ylabel(\"Cumulative (%)\")\n",
    "ax2.set_ylim(0, 110)\n",
    "\n",
    "for x, y in enumerate(municipalities_pareto[\"cumulative_pct\"]):\n",
    "    ax2.text(x, y + 2, f\"{y:.1f}%\", ha=\"center\", color=\"orange\")\n",
    "\n",
    "plt.title(\"Pareto Chart: Distribution of Municipalities by Population Size\")\n",
    "plt.tight_layout()\n",
    "plt.show()\n"
   ]
  },
  {
   "cell_type": "markdown",
   "id": "eca7a838",
   "metadata": {},
   "source": [
    "### Assumption: License Agreements at the Level of Municipal Associations\n",
    "\n",
    "Given the distribution of municipality sizes in Germany with over 80% having fewer than 10.000 inhabitants. We assume that software license agreements are not concluded at the level of individual small municipalities. Instead, it is more realistic to assume that contracts are managed at the level of **municipal associations** (_Gemeindeverbände_), which pool administrative resources.\n",
    "\n",
    "We therefore consider the **number of municipal associations** in Germany as a more accurate proxy for the number of potential customers.\n"
   ]
  },
  {
   "cell_type": "code",
   "execution_count": 86,
   "id": "e1637ce9",
   "metadata": {},
   "outputs": [
    {
     "name": "stdout",
     "output_type": "stream",
     "text": [
      "License per election ~ €4.6M\n"
     ]
    }
   ],
   "source": [
    "costumer = municipalities[['Land', 'RB', 'Kreis', 'VB']].drop_duplicates().shape[0]\n",
    "lisenz_cost = 1_000\n",
    "\n",
    "print(f'License per election ~ €{round(costumer * lisenz_cost / 1_000_000, 1)}M')\n"
   ]
  }
 ],
 "metadata": {
  "kernelspec": {
   "display_name": "venv",
   "language": "python",
   "name": "python3"
  },
  "language_info": {
   "codemirror_mode": {
    "name": "ipython",
    "version": 3
   },
   "file_extension": ".py",
   "mimetype": "text/x-python",
   "name": "python",
   "nbconvert_exporter": "python",
   "pygments_lexer": "ipython3",
   "version": "3.11.9"
  }
 },
 "nbformat": 4,
 "nbformat_minor": 5
}
